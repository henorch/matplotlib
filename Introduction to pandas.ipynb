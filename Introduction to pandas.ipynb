{
 "cells": [
  {
   "cell_type": "markdown",
   "id": "52ab54cc",
   "metadata": {},
   "source": [
    "# INTRODUCTION TO PANDAS"
   ]
  },
  {
   "cell_type": "markdown",
   "id": "c999660d",
   "metadata": {},
   "source": [
    "# creating series and creating dataframe from the series"
   ]
  },
  {
   "cell_type": "code",
   "execution_count": 40,
   "id": "c5fc0ece",
   "metadata": {},
   "outputs": [],
   "source": [
    "#creating series\n",
    "import pandas as pd\n",
    "car_price = pd.Series(['$2000', '$2300', '$4000', '$2000','$18000'])\n",
    "car_make =pd.Series(['Toyota', 'Mitsuibush', 'Datsun', 'Lexus', 'Toyota'])"
   ]
  },
  {
   "cell_type": "code",
   "execution_count": 41,
   "id": "6ac25445",
   "metadata": {},
   "outputs": [],
   "source": [
    "#creating dataframe \n",
    "car_data = pd.DataFrame({\n",
    "    'car_make': car_make,\n",
    "    'car-price': car_price\n",
    "})"
   ]
  },
  {
   "cell_type": "markdown",
   "id": "11199556",
   "metadata": {},
   "source": [
    "# Viewing The dataframe"
   ]
  },
  {
   "cell_type": "code",
   "execution_count": 42,
   "id": "b35a41b6",
   "metadata": {},
   "outputs": [
    {
     "data": {
      "text/html": [
       "<div>\n",
       "<style scoped>\n",
       "    .dataframe tbody tr th:only-of-type {\n",
       "        vertical-align: middle;\n",
       "    }\n",
       "\n",
       "    .dataframe tbody tr th {\n",
       "        vertical-align: top;\n",
       "    }\n",
       "\n",
       "    .dataframe thead th {\n",
       "        text-align: right;\n",
       "    }\n",
       "</style>\n",
       "<table border=\"1\" class=\"dataframe\">\n",
       "  <thead>\n",
       "    <tr style=\"text-align: right;\">\n",
       "      <th></th>\n",
       "      <th>car_make</th>\n",
       "      <th>car-price</th>\n",
       "    </tr>\n",
       "  </thead>\n",
       "  <tbody>\n",
       "    <tr>\n",
       "      <th>0</th>\n",
       "      <td>Toyota</td>\n",
       "      <td>$2000</td>\n",
       "    </tr>\n",
       "    <tr>\n",
       "      <th>1</th>\n",
       "      <td>Mitsuibush</td>\n",
       "      <td>$2300</td>\n",
       "    </tr>\n",
       "    <tr>\n",
       "      <th>2</th>\n",
       "      <td>Datsun</td>\n",
       "      <td>$4000</td>\n",
       "    </tr>\n",
       "    <tr>\n",
       "      <th>3</th>\n",
       "      <td>Lexus</td>\n",
       "      <td>$2000</td>\n",
       "    </tr>\n",
       "    <tr>\n",
       "      <th>4</th>\n",
       "      <td>Toyota</td>\n",
       "      <td>$18000</td>\n",
       "    </tr>\n",
       "  </tbody>\n",
       "</table>\n",
       "</div>"
      ],
      "text/plain": [
       "     car_make car-price\n",
       "0      Toyota     $2000\n",
       "1  Mitsuibush     $2300\n",
       "2      Datsun     $4000\n",
       "3       Lexus     $2000\n",
       "4      Toyota    $18000"
      ]
     },
     "execution_count": 42,
     "metadata": {},
     "output_type": "execute_result"
    }
   ],
   "source": [
    "car_data"
   ]
  },
  {
   "cell_type": "markdown",
   "id": "e5b46bea",
   "metadata": {},
   "source": [
    "# Adding another columns to the dataframe from python list"
   ]
  },
  {
   "cell_type": "code",
   "execution_count": 43,
   "id": "13a88946",
   "metadata": {},
   "outputs": [],
   "source": [
    "car_data['seat_number'] = [2,4,4,7,4]"
   ]
  },
  {
   "cell_type": "code",
   "execution_count": 44,
   "id": "c389e35d",
   "metadata": {},
   "outputs": [],
   "source": [
    "car_data['horse_power'] = [114, 230, 345, 120, 110]"
   ]
  },
  {
   "cell_type": "code",
   "execution_count": 45,
   "id": "656e86e6",
   "metadata": {},
   "outputs": [],
   "source": [
    "car_data['fuel_used(Ltr)'] =  [10000, 2000, 9320, 45000, 2104]"
   ]
  },
  {
   "cell_type": "code",
   "execution_count": 46,
   "id": "846a64a1",
   "metadata": {},
   "outputs": [],
   "source": [
    "car_data['Milage(KM)'] = [2000,200,3200, 10450, 230]"
   ]
  },
  {
   "cell_type": "code",
   "execution_count": 47,
   "id": "8a7d3568",
   "metadata": {},
   "outputs": [
    {
     "data": {
      "text/html": [
       "<div>\n",
       "<style scoped>\n",
       "    .dataframe tbody tr th:only-of-type {\n",
       "        vertical-align: middle;\n",
       "    }\n",
       "\n",
       "    .dataframe tbody tr th {\n",
       "        vertical-align: top;\n",
       "    }\n",
       "\n",
       "    .dataframe thead th {\n",
       "        text-align: right;\n",
       "    }\n",
       "</style>\n",
       "<table border=\"1\" class=\"dataframe\">\n",
       "  <thead>\n",
       "    <tr style=\"text-align: right;\">\n",
       "      <th></th>\n",
       "      <th>car_make</th>\n",
       "      <th>car-price</th>\n",
       "      <th>seat_number</th>\n",
       "      <th>horse_power</th>\n",
       "      <th>fuel_used(Ltr)</th>\n",
       "      <th>Milage(KM)</th>\n",
       "    </tr>\n",
       "  </thead>\n",
       "  <tbody>\n",
       "    <tr>\n",
       "      <th>0</th>\n",
       "      <td>Toyota</td>\n",
       "      <td>$2000</td>\n",
       "      <td>2</td>\n",
       "      <td>114</td>\n",
       "      <td>10000</td>\n",
       "      <td>2000</td>\n",
       "    </tr>\n",
       "    <tr>\n",
       "      <th>1</th>\n",
       "      <td>Mitsuibush</td>\n",
       "      <td>$2300</td>\n",
       "      <td>4</td>\n",
       "      <td>230</td>\n",
       "      <td>2000</td>\n",
       "      <td>200</td>\n",
       "    </tr>\n",
       "    <tr>\n",
       "      <th>2</th>\n",
       "      <td>Datsun</td>\n",
       "      <td>$4000</td>\n",
       "      <td>4</td>\n",
       "      <td>345</td>\n",
       "      <td>9320</td>\n",
       "      <td>3200</td>\n",
       "    </tr>\n",
       "    <tr>\n",
       "      <th>3</th>\n",
       "      <td>Lexus</td>\n",
       "      <td>$2000</td>\n",
       "      <td>7</td>\n",
       "      <td>120</td>\n",
       "      <td>45000</td>\n",
       "      <td>10450</td>\n",
       "    </tr>\n",
       "    <tr>\n",
       "      <th>4</th>\n",
       "      <td>Toyota</td>\n",
       "      <td>$18000</td>\n",
       "      <td>4</td>\n",
       "      <td>110</td>\n",
       "      <td>2104</td>\n",
       "      <td>230</td>\n",
       "    </tr>\n",
       "  </tbody>\n",
       "</table>\n",
       "</div>"
      ],
      "text/plain": [
       "     car_make car-price  seat_number  horse_power  fuel_used(Ltr)  Milage(KM)\n",
       "0      Toyota     $2000            2          114           10000        2000\n",
       "1  Mitsuibush     $2300            4          230            2000         200\n",
       "2      Datsun     $4000            4          345            9320        3200\n",
       "3       Lexus     $2000            7          120           45000       10450\n",
       "4      Toyota    $18000            4          110            2104         230"
      ]
     },
     "execution_count": 47,
     "metadata": {},
     "output_type": "execute_result"
    }
   ],
   "source": [
    "car_data"
   ]
  },
  {
   "cell_type": "markdown",
   "id": "3f531fc2",
   "metadata": {},
   "source": [
    "# creating another column from combination of two column"
   ]
  },
  {
   "cell_type": "code",
   "execution_count": 48,
   "id": "de1fc801",
   "metadata": {},
   "outputs": [],
   "source": [
    "car_data['life fuel used'] = car_data['fuel_used(Ltr)']*car_data['Milage(KM)']"
   ]
  },
  {
   "cell_type": "code",
   "execution_count": 49,
   "id": "38cb7896",
   "metadata": {
    "scrolled": true
   },
   "outputs": [
    {
     "data": {
      "text/html": [
       "<div>\n",
       "<style scoped>\n",
       "    .dataframe tbody tr th:only-of-type {\n",
       "        vertical-align: middle;\n",
       "    }\n",
       "\n",
       "    .dataframe tbody tr th {\n",
       "        vertical-align: top;\n",
       "    }\n",
       "\n",
       "    .dataframe thead th {\n",
       "        text-align: right;\n",
       "    }\n",
       "</style>\n",
       "<table border=\"1\" class=\"dataframe\">\n",
       "  <thead>\n",
       "    <tr style=\"text-align: right;\">\n",
       "      <th></th>\n",
       "      <th>car_make</th>\n",
       "      <th>car-price</th>\n",
       "      <th>seat_number</th>\n",
       "      <th>horse_power</th>\n",
       "      <th>fuel_used(Ltr)</th>\n",
       "      <th>Milage(KM)</th>\n",
       "      <th>life fuel used</th>\n",
       "    </tr>\n",
       "  </thead>\n",
       "  <tbody>\n",
       "    <tr>\n",
       "      <th>0</th>\n",
       "      <td>Toyota</td>\n",
       "      <td>$2000</td>\n",
       "      <td>2</td>\n",
       "      <td>114</td>\n",
       "      <td>10000</td>\n",
       "      <td>2000</td>\n",
       "      <td>20000000</td>\n",
       "    </tr>\n",
       "    <tr>\n",
       "      <th>1</th>\n",
       "      <td>Mitsuibush</td>\n",
       "      <td>$2300</td>\n",
       "      <td>4</td>\n",
       "      <td>230</td>\n",
       "      <td>2000</td>\n",
       "      <td>200</td>\n",
       "      <td>400000</td>\n",
       "    </tr>\n",
       "    <tr>\n",
       "      <th>2</th>\n",
       "      <td>Datsun</td>\n",
       "      <td>$4000</td>\n",
       "      <td>4</td>\n",
       "      <td>345</td>\n",
       "      <td>9320</td>\n",
       "      <td>3200</td>\n",
       "      <td>29824000</td>\n",
       "    </tr>\n",
       "    <tr>\n",
       "      <th>3</th>\n",
       "      <td>Lexus</td>\n",
       "      <td>$2000</td>\n",
       "      <td>7</td>\n",
       "      <td>120</td>\n",
       "      <td>45000</td>\n",
       "      <td>10450</td>\n",
       "      <td>470250000</td>\n",
       "    </tr>\n",
       "    <tr>\n",
       "      <th>4</th>\n",
       "      <td>Toyota</td>\n",
       "      <td>$18000</td>\n",
       "      <td>4</td>\n",
       "      <td>110</td>\n",
       "      <td>2104</td>\n",
       "      <td>230</td>\n",
       "      <td>483920</td>\n",
       "    </tr>\n",
       "  </tbody>\n",
       "</table>\n",
       "</div>"
      ],
      "text/plain": [
       "     car_make car-price  seat_number  horse_power  fuel_used(Ltr)  Milage(KM)  \\\n",
       "0      Toyota     $2000            2          114           10000        2000   \n",
       "1  Mitsuibush     $2300            4          230            2000         200   \n",
       "2      Datsun     $4000            4          345            9320        3200   \n",
       "3       Lexus     $2000            7          120           45000       10450   \n",
       "4      Toyota    $18000            4          110            2104         230   \n",
       "\n",
       "   life fuel used  \n",
       "0        20000000  \n",
       "1          400000  \n",
       "2        29824000  \n",
       "3       470250000  \n",
       "4          483920  "
      ]
     },
     "execution_count": 49,
     "metadata": {},
     "output_type": "execute_result"
    }
   ],
   "source": [
    "car_data"
   ]
  },
  {
   "cell_type": "markdown",
   "id": "7c14296f",
   "metadata": {},
   "source": [
    "# analysis and getting info from a data frame"
   ]
  },
  {
   "cell_type": "code",
   "execution_count": 51,
   "id": "04dabcf5",
   "metadata": {},
   "outputs": [
    {
     "name": "stdout",
     "output_type": "stream",
     "text": [
      "<class 'pandas.core.frame.DataFrame'>\n",
      "RangeIndex: 5 entries, 0 to 4\n",
      "Data columns (total 7 columns):\n",
      " #   Column          Non-Null Count  Dtype \n",
      "---  ------          --------------  ----- \n",
      " 0   car_make        5 non-null      object\n",
      " 1   car-price       5 non-null      object\n",
      " 2   seat_number     5 non-null      int64 \n",
      " 3   horse_power     5 non-null      int64 \n",
      " 4   fuel_used(Ltr)  5 non-null      int64 \n",
      " 5   Milage(KM)      5 non-null      int64 \n",
      " 6   life fuel used  5 non-null      int64 \n",
      "dtypes: int64(5), object(2)\n",
      "memory usage: 408.0+ bytes\n"
     ]
    }
   ],
   "source": [
    "car_data.info()"
   ]
  },
  {
   "cell_type": "code",
   "execution_count": 54,
   "id": "c0877d2a",
   "metadata": {
    "scrolled": true
   },
   "outputs": [
    {
     "data": {
      "text/html": [
       "<div>\n",
       "<style scoped>\n",
       "    .dataframe tbody tr th:only-of-type {\n",
       "        vertical-align: middle;\n",
       "    }\n",
       "\n",
       "    .dataframe tbody tr th {\n",
       "        vertical-align: top;\n",
       "    }\n",
       "\n",
       "    .dataframe thead th {\n",
       "        text-align: right;\n",
       "    }\n",
       "</style>\n",
       "<table border=\"1\" class=\"dataframe\">\n",
       "  <thead>\n",
       "    <tr style=\"text-align: right;\">\n",
       "      <th></th>\n",
       "      <th>seat_number</th>\n",
       "      <th>horse_power</th>\n",
       "      <th>fuel_used(Ltr)</th>\n",
       "      <th>Milage(KM)</th>\n",
       "      <th>life fuel used</th>\n",
       "    </tr>\n",
       "  </thead>\n",
       "  <tbody>\n",
       "    <tr>\n",
       "      <th>count</th>\n",
       "      <td>5.000000</td>\n",
       "      <td>5.000000</td>\n",
       "      <td>5.000000</td>\n",
       "      <td>5.000000</td>\n",
       "      <td>5.000000e+00</td>\n",
       "    </tr>\n",
       "    <tr>\n",
       "      <th>mean</th>\n",
       "      <td>4.200000</td>\n",
       "      <td>183.800000</td>\n",
       "      <td>13684.800000</td>\n",
       "      <td>3216.000000</td>\n",
       "      <td>1.041916e+08</td>\n",
       "    </tr>\n",
       "    <tr>\n",
       "      <th>std</th>\n",
       "      <td>1.788854</td>\n",
       "      <td>103.088312</td>\n",
       "      <td>17915.917928</td>\n",
       "      <td>4237.396606</td>\n",
       "      <td>2.050277e+08</td>\n",
       "    </tr>\n",
       "    <tr>\n",
       "      <th>min</th>\n",
       "      <td>2.000000</td>\n",
       "      <td>110.000000</td>\n",
       "      <td>2000.000000</td>\n",
       "      <td>200.000000</td>\n",
       "      <td>4.000000e+05</td>\n",
       "    </tr>\n",
       "    <tr>\n",
       "      <th>25%</th>\n",
       "      <td>4.000000</td>\n",
       "      <td>114.000000</td>\n",
       "      <td>2104.000000</td>\n",
       "      <td>230.000000</td>\n",
       "      <td>4.839200e+05</td>\n",
       "    </tr>\n",
       "    <tr>\n",
       "      <th>50%</th>\n",
       "      <td>4.000000</td>\n",
       "      <td>120.000000</td>\n",
       "      <td>9320.000000</td>\n",
       "      <td>2000.000000</td>\n",
       "      <td>2.000000e+07</td>\n",
       "    </tr>\n",
       "    <tr>\n",
       "      <th>75%</th>\n",
       "      <td>4.000000</td>\n",
       "      <td>230.000000</td>\n",
       "      <td>10000.000000</td>\n",
       "      <td>3200.000000</td>\n",
       "      <td>2.982400e+07</td>\n",
       "    </tr>\n",
       "    <tr>\n",
       "      <th>max</th>\n",
       "      <td>7.000000</td>\n",
       "      <td>345.000000</td>\n",
       "      <td>45000.000000</td>\n",
       "      <td>10450.000000</td>\n",
       "      <td>4.702500e+08</td>\n",
       "    </tr>\n",
       "  </tbody>\n",
       "</table>\n",
       "</div>"
      ],
      "text/plain": [
       "       seat_number  horse_power  fuel_used(Ltr)    Milage(KM)  life fuel used\n",
       "count     5.000000     5.000000        5.000000      5.000000    5.000000e+00\n",
       "mean      4.200000   183.800000    13684.800000   3216.000000    1.041916e+08\n",
       "std       1.788854   103.088312    17915.917928   4237.396606    2.050277e+08\n",
       "min       2.000000   110.000000     2000.000000    200.000000    4.000000e+05\n",
       "25%       4.000000   114.000000     2104.000000    230.000000    4.839200e+05\n",
       "50%       4.000000   120.000000     9320.000000   2000.000000    2.000000e+07\n",
       "75%       4.000000   230.000000    10000.000000   3200.000000    2.982400e+07\n",
       "max       7.000000   345.000000    45000.000000  10450.000000    4.702500e+08"
      ]
     },
     "execution_count": 54,
     "metadata": {},
     "output_type": "execute_result"
    }
   ],
   "source": [
    "car_data.describe()"
   ]
  },
  {
   "cell_type": "code",
   "execution_count": 60,
   "id": "0351bd57",
   "metadata": {},
   "outputs": [
    {
     "data": {
      "text/plain": [
       "car_make          object\n",
       "car-price         object\n",
       "seat_number        int64\n",
       "horse_power        int64\n",
       "fuel_used(Ltr)     int64\n",
       "Milage(KM)         int64\n",
       "life fuel used     int64\n",
       "dtype: object"
      ]
     },
     "execution_count": 60,
     "metadata": {},
     "output_type": "execute_result"
    }
   ],
   "source": [
    "car_data.dtypes"
   ]
  },
  {
   "cell_type": "code",
   "execution_count": 65,
   "id": "92e09f27",
   "metadata": {},
   "outputs": [
    {
     "data": {
      "text/plain": [
       "car_make          0\n",
       "car-price         0\n",
       "seat_number       0\n",
       "horse_power       0\n",
       "fuel_used(Ltr)    0\n",
       "Milage(KM)        0\n",
       "life fuel used    0\n",
       "dtype: int64"
      ]
     },
     "execution_count": 65,
     "metadata": {},
     "output_type": "execute_result"
    }
   ],
   "source": [
    "# Checking for missing number.\n",
    "car_data.isnull().sum()"
   ]
  },
  {
   "cell_type": "code",
   "execution_count": null,
   "id": "55c68dc5",
   "metadata": {},
   "outputs": [],
   "source": []
  }
 ],
 "metadata": {
  "kernelspec": {
   "display_name": "Python 3 (ipykernel)",
   "language": "python",
   "name": "python3"
  },
  "language_info": {
   "codemirror_mode": {
    "name": "ipython",
    "version": 3
   },
   "file_extension": ".py",
   "mimetype": "text/x-python",
   "name": "python",
   "nbconvert_exporter": "python",
   "pygments_lexer": "ipython3",
   "version": "3.10.9"
  }
 },
 "nbformat": 4,
 "nbformat_minor": 5
}
