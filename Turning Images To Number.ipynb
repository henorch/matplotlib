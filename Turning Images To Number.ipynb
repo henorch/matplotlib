{
 "cells": [
  {
   "cell_type": "markdown",
   "id": "42e1c778",
   "metadata": {},
   "source": [
    "# Turning images to numpy array"
   ]
  },
  {
   "cell_type": "code",
   "execution_count": 28,
   "id": "33ec8b32",
   "metadata": {},
   "outputs": [
    {
     "data": {
      "text/html": [
       "<img src=\"images/panda.jpg\"/>\n"
      ],
      "text/plain": [
       "<IPython.core.display.HTML object>"
      ]
     },
     "metadata": {},
     "output_type": "display_data"
    }
   ],
   "source": [
    "%%html\n",
    "<img src=\"images/panda.jpg\"/>"
   ]
  },
  {
   "cell_type": "code",
   "execution_count": 14,
   "id": "31e15cae",
   "metadata": {},
   "outputs": [],
   "source": [
    "from matplotlib.image import imread"
   ]
  },
  {
   "cell_type": "code",
   "execution_count": 4,
   "id": "f4a170f9",
   "metadata": {},
   "outputs": [
    {
     "data": {
      "text/plain": [
       "numpy.ndarray"
      ]
     },
     "execution_count": 4,
     "metadata": {},
     "output_type": "execute_result"
    }
   ],
   "source": [
    "panda = imread('images/panda.jpg')"
   ]
  },
  {
   "cell_type": "code",
   "execution_count": 5,
   "id": "d16046bd",
   "metadata": {},
   "outputs": [
    {
     "data": {
      "text/plain": [
       "array([[[ 80,  89,  60],\n",
       "        [ 83,  94,  62],\n",
       "        [ 89, 100,  68],\n",
       "        ...,\n",
       "        [ 31,  57,  22],\n",
       "        [ 31,  57,  22],\n",
       "        [ 31,  57,  22]],\n",
       "\n",
       "       [[ 79,  88,  59],\n",
       "        [ 83,  92,  61],\n",
       "        [ 88,  99,  67],\n",
       "        ...,\n",
       "        [ 32,  58,  23],\n",
       "        [ 32,  58,  23],\n",
       "        [ 32,  58,  23]],\n",
       "\n",
       "       [[ 78,  87,  58],\n",
       "        [ 82,  91,  62],\n",
       "        [ 88,  99,  67],\n",
       "        ...,\n",
       "        [ 32,  57,  25],\n",
       "        [ 32,  57,  25],\n",
       "        [ 32,  57,  25]],\n",
       "\n",
       "       ...,\n",
       "\n",
       "       [[ 60,  62,  59],\n",
       "        [ 69,  71,  68],\n",
       "        [ 73,  75,  72],\n",
       "        ...,\n",
       "        [ 11,  11,   9],\n",
       "        [ 11,  11,   9],\n",
       "        [ 11,  11,   9]],\n",
       "\n",
       "       [[ 65,  67,  64],\n",
       "        [ 69,  71,  68],\n",
       "        [ 71,  73,  70],\n",
       "        ...,\n",
       "        [ 10,  10,   8],\n",
       "        [ 10,  10,   8],\n",
       "        [ 10,  10,   8]],\n",
       "\n",
       "       [[ 66,  68,  65],\n",
       "        [ 65,  67,  64],\n",
       "        [ 62,  64,  61],\n",
       "        ...,\n",
       "        [  9,   9,   7],\n",
       "        [  9,   9,   7],\n",
       "        [  9,   9,   7]]], dtype=uint8)"
      ]
     },
     "execution_count": 5,
     "metadata": {},
     "output_type": "execute_result"
    }
   ],
   "source": [
    "panda"
   ]
  },
  {
   "cell_type": "code",
   "execution_count": 7,
   "id": "df2efd3d",
   "metadata": {},
   "outputs": [
    {
     "data": {
      "text/plain": [
       "(150975, (183, 275, 3))"
      ]
     },
     "execution_count": 7,
     "metadata": {},
     "output_type": "execute_result"
    }
   ],
   "source": [
    "panda.size, panda.shape"
   ]
  }
 ],
 "metadata": {
  "kernelspec": {
   "display_name": "Python 3 (ipykernel)",
   "language": "python",
   "name": "python3"
  },
  "language_info": {
   "codemirror_mode": {
    "name": "ipython",
    "version": 3
   },
   "file_extension": ".py",
   "mimetype": "text/x-python",
   "name": "python",
   "nbconvert_exporter": "python",
   "pygments_lexer": "ipython3",
   "version": "3.10.9"
  }
 },
 "nbformat": 4,
 "nbformat_minor": 5
}
