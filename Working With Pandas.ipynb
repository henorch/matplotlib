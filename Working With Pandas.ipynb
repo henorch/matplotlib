{
 "cells": [
  {
   "cell_type": "markdown",
   "id": "45ba562c",
   "metadata": {},
   "source": [
    "# Working With Data in Pandas"
   ]
  },
  {
   "cell_type": "markdown",
   "id": "739904cf",
   "metadata": {},
   "source": [
    "# importing data in pandas "
   ]
  },
  {
   "cell_type": "code",
   "execution_count": 63,
   "id": "e711f2b6",
   "metadata": {},
   "outputs": [],
   "source": [
    "import pandas as pd\n",
    "car_data = pd.read_csv('car_dataframe.csv')"
   ]
  },
  {
   "cell_type": "code",
   "execution_count": 64,
   "id": "3d38088f",
   "metadata": {},
   "outputs": [
    {
     "data": {
      "text/html": [
       "<div>\n",
       "<style scoped>\n",
       "    .dataframe tbody tr th:only-of-type {\n",
       "        vertical-align: middle;\n",
       "    }\n",
       "\n",
       "    .dataframe tbody tr th {\n",
       "        vertical-align: top;\n",
       "    }\n",
       "\n",
       "    .dataframe thead th {\n",
       "        text-align: right;\n",
       "    }\n",
       "</style>\n",
       "<table border=\"1\" class=\"dataframe\">\n",
       "  <thead>\n",
       "    <tr style=\"text-align: right;\">\n",
       "      <th></th>\n",
       "      <th>car_make</th>\n",
       "      <th>car-price</th>\n",
       "      <th>seat_number</th>\n",
       "      <th>horse_power</th>\n",
       "      <th>fuel_used(Ltr)</th>\n",
       "      <th>Milage(KM)</th>\n",
       "      <th>life fuel used</th>\n",
       "    </tr>\n",
       "  </thead>\n",
       "  <tbody>\n",
       "    <tr>\n",
       "      <th>0</th>\n",
       "      <td>Toyota</td>\n",
       "      <td>$2000</td>\n",
       "      <td>2</td>\n",
       "      <td>114</td>\n",
       "      <td>10000</td>\n",
       "      <td>2000</td>\n",
       "      <td>20000000</td>\n",
       "    </tr>\n",
       "    <tr>\n",
       "      <th>1</th>\n",
       "      <td>Mitsuibush</td>\n",
       "      <td>$2300</td>\n",
       "      <td>4</td>\n",
       "      <td>230</td>\n",
       "      <td>2000</td>\n",
       "      <td>200</td>\n",
       "      <td>400000</td>\n",
       "    </tr>\n",
       "    <tr>\n",
       "      <th>2</th>\n",
       "      <td>Datsun</td>\n",
       "      <td>$4000</td>\n",
       "      <td>4</td>\n",
       "      <td>345</td>\n",
       "      <td>9320</td>\n",
       "      <td>3200</td>\n",
       "      <td>29824000</td>\n",
       "    </tr>\n",
       "    <tr>\n",
       "      <th>3</th>\n",
       "      <td>Lexus</td>\n",
       "      <td>$2000</td>\n",
       "      <td>7</td>\n",
       "      <td>120</td>\n",
       "      <td>45000</td>\n",
       "      <td>10450</td>\n",
       "      <td>470250000</td>\n",
       "    </tr>\n",
       "    <tr>\n",
       "      <th>4</th>\n",
       "      <td>Toyota</td>\n",
       "      <td>$18000</td>\n",
       "      <td>4</td>\n",
       "      <td>110</td>\n",
       "      <td>2104</td>\n",
       "      <td>230</td>\n",
       "      <td>483920</td>\n",
       "    </tr>\n",
       "  </tbody>\n",
       "</table>\n",
       "</div>"
      ],
      "text/plain": [
       "     car_make car-price  seat_number  horse_power  fuel_used(Ltr)  Milage(KM)  \\\n",
       "0      Toyota     $2000            2          114           10000        2000   \n",
       "1  Mitsuibush     $2300            4          230            2000         200   \n",
       "2      Datsun     $4000            4          345            9320        3200   \n",
       "3       Lexus     $2000            7          120           45000       10450   \n",
       "4      Toyota    $18000            4          110            2104         230   \n",
       "\n",
       "   life fuel used  \n",
       "0        20000000  \n",
       "1          400000  \n",
       "2        29824000  \n",
       "3       470250000  \n",
       "4          483920  "
      ]
     },
     "execution_count": 64,
     "metadata": {},
     "output_type": "execute_result"
    }
   ],
   "source": [
    "car_data"
   ]
  },
  {
   "cell_type": "markdown",
   "id": "947edac8",
   "metadata": {},
   "source": [
    "# selecting and viewing row in dataframe"
   ]
  },
  {
   "cell_type": "code",
   "execution_count": 65,
   "id": "d775201e",
   "metadata": {},
   "outputs": [],
   "source": [
    "car_make_price = car_data[['car_make', 'car-price']]"
   ]
  },
  {
   "cell_type": "code",
   "execution_count": 66,
   "id": "c06f388d",
   "metadata": {},
   "outputs": [
    {
     "data": {
      "text/html": [
       "<div>\n",
       "<style scoped>\n",
       "    .dataframe tbody tr th:only-of-type {\n",
       "        vertical-align: middle;\n",
       "    }\n",
       "\n",
       "    .dataframe tbody tr th {\n",
       "        vertical-align: top;\n",
       "    }\n",
       "\n",
       "    .dataframe thead th {\n",
       "        text-align: right;\n",
       "    }\n",
       "</style>\n",
       "<table border=\"1\" class=\"dataframe\">\n",
       "  <thead>\n",
       "    <tr style=\"text-align: right;\">\n",
       "      <th></th>\n",
       "      <th>car_make</th>\n",
       "      <th>car-price</th>\n",
       "    </tr>\n",
       "  </thead>\n",
       "  <tbody>\n",
       "    <tr>\n",
       "      <th>0</th>\n",
       "      <td>Toyota</td>\n",
       "      <td>$2000</td>\n",
       "    </tr>\n",
       "    <tr>\n",
       "      <th>1</th>\n",
       "      <td>Mitsuibush</td>\n",
       "      <td>$2300</td>\n",
       "    </tr>\n",
       "    <tr>\n",
       "      <th>2</th>\n",
       "      <td>Datsun</td>\n",
       "      <td>$4000</td>\n",
       "    </tr>\n",
       "    <tr>\n",
       "      <th>3</th>\n",
       "      <td>Lexus</td>\n",
       "      <td>$2000</td>\n",
       "    </tr>\n",
       "    <tr>\n",
       "      <th>4</th>\n",
       "      <td>Toyota</td>\n",
       "      <td>$18000</td>\n",
       "    </tr>\n",
       "  </tbody>\n",
       "</table>\n",
       "</div>"
      ],
      "text/plain": [
       "     car_make car-price\n",
       "0      Toyota     $2000\n",
       "1  Mitsuibush     $2300\n",
       "2      Datsun     $4000\n",
       "3       Lexus     $2000\n",
       "4      Toyota    $18000"
      ]
     },
     "execution_count": 66,
     "metadata": {},
     "output_type": "execute_result"
    }
   ],
   "source": [
    "car_make_price"
   ]
  },
  {
   "cell_type": "code",
   "execution_count": 67,
   "id": "34af1d2b",
   "metadata": {},
   "outputs": [],
   "source": [
    "car_data['car_make'] = car_data['car_make'].str.lower()"
   ]
  },
  {
   "cell_type": "code",
   "execution_count": 68,
   "id": "662dc1ec",
   "metadata": {},
   "outputs": [
    {
     "data": {
      "text/html": [
       "<div>\n",
       "<style scoped>\n",
       "    .dataframe tbody tr th:only-of-type {\n",
       "        vertical-align: middle;\n",
       "    }\n",
       "\n",
       "    .dataframe tbody tr th {\n",
       "        vertical-align: top;\n",
       "    }\n",
       "\n",
       "    .dataframe thead th {\n",
       "        text-align: right;\n",
       "    }\n",
       "</style>\n",
       "<table border=\"1\" class=\"dataframe\">\n",
       "  <thead>\n",
       "    <tr style=\"text-align: right;\">\n",
       "      <th></th>\n",
       "      <th>car_make</th>\n",
       "      <th>car-price</th>\n",
       "      <th>seat_number</th>\n",
       "      <th>horse_power</th>\n",
       "      <th>fuel_used(Ltr)</th>\n",
       "      <th>Milage(KM)</th>\n",
       "      <th>life fuel used</th>\n",
       "    </tr>\n",
       "  </thead>\n",
       "  <tbody>\n",
       "    <tr>\n",
       "      <th>0</th>\n",
       "      <td>toyota</td>\n",
       "      <td>$2000</td>\n",
       "      <td>2</td>\n",
       "      <td>114</td>\n",
       "      <td>10000</td>\n",
       "      <td>2000</td>\n",
       "      <td>20000000</td>\n",
       "    </tr>\n",
       "    <tr>\n",
       "      <th>1</th>\n",
       "      <td>mitsuibush</td>\n",
       "      <td>$2300</td>\n",
       "      <td>4</td>\n",
       "      <td>230</td>\n",
       "      <td>2000</td>\n",
       "      <td>200</td>\n",
       "      <td>400000</td>\n",
       "    </tr>\n",
       "    <tr>\n",
       "      <th>2</th>\n",
       "      <td>datsun</td>\n",
       "      <td>$4000</td>\n",
       "      <td>4</td>\n",
       "      <td>345</td>\n",
       "      <td>9320</td>\n",
       "      <td>3200</td>\n",
       "      <td>29824000</td>\n",
       "    </tr>\n",
       "    <tr>\n",
       "      <th>3</th>\n",
       "      <td>lexus</td>\n",
       "      <td>$2000</td>\n",
       "      <td>7</td>\n",
       "      <td>120</td>\n",
       "      <td>45000</td>\n",
       "      <td>10450</td>\n",
       "      <td>470250000</td>\n",
       "    </tr>\n",
       "    <tr>\n",
       "      <th>4</th>\n",
       "      <td>toyota</td>\n",
       "      <td>$18000</td>\n",
       "      <td>4</td>\n",
       "      <td>110</td>\n",
       "      <td>2104</td>\n",
       "      <td>230</td>\n",
       "      <td>483920</td>\n",
       "    </tr>\n",
       "  </tbody>\n",
       "</table>\n",
       "</div>"
      ],
      "text/plain": [
       "     car_make car-price  seat_number  horse_power  fuel_used(Ltr)  Milage(KM)  \\\n",
       "0      toyota     $2000            2          114           10000        2000   \n",
       "1  mitsuibush     $2300            4          230            2000         200   \n",
       "2      datsun     $4000            4          345            9320        3200   \n",
       "3       lexus     $2000            7          120           45000       10450   \n",
       "4      toyota    $18000            4          110            2104         230   \n",
       "\n",
       "   life fuel used  \n",
       "0        20000000  \n",
       "1          400000  \n",
       "2        29824000  \n",
       "3       470250000  \n",
       "4          483920  "
      ]
     },
     "execution_count": 68,
     "metadata": {},
     "output_type": "execute_result"
    }
   ],
   "source": [
    "car_data"
   ]
  },
  {
   "cell_type": "code",
   "execution_count": 69,
   "id": "0b59a3c6",
   "metadata": {},
   "outputs": [],
   "source": [
    "# selecting where car seat is 4.\n",
    "car_seat_is_4_or_toyota = car_data[(car_data['seat_number'] == 4) | (car_data['car_make'] == 'toyota')]"
   ]
  },
  {
   "cell_type": "code",
   "execution_count": 70,
   "id": "fe0ec5c7",
   "metadata": {},
   "outputs": [
    {
     "data": {
      "text/html": [
       "<div>\n",
       "<style scoped>\n",
       "    .dataframe tbody tr th:only-of-type {\n",
       "        vertical-align: middle;\n",
       "    }\n",
       "\n",
       "    .dataframe tbody tr th {\n",
       "        vertical-align: top;\n",
       "    }\n",
       "\n",
       "    .dataframe thead th {\n",
       "        text-align: right;\n",
       "    }\n",
       "</style>\n",
       "<table border=\"1\" class=\"dataframe\">\n",
       "  <thead>\n",
       "    <tr style=\"text-align: right;\">\n",
       "      <th></th>\n",
       "      <th>car_make</th>\n",
       "      <th>car-price</th>\n",
       "      <th>seat_number</th>\n",
       "      <th>horse_power</th>\n",
       "      <th>fuel_used(Ltr)</th>\n",
       "      <th>Milage(KM)</th>\n",
       "      <th>life fuel used</th>\n",
       "    </tr>\n",
       "  </thead>\n",
       "  <tbody>\n",
       "    <tr>\n",
       "      <th>0</th>\n",
       "      <td>toyota</td>\n",
       "      <td>$2000</td>\n",
       "      <td>2</td>\n",
       "      <td>114</td>\n",
       "      <td>10000</td>\n",
       "      <td>2000</td>\n",
       "      <td>20000000</td>\n",
       "    </tr>\n",
       "    <tr>\n",
       "      <th>1</th>\n",
       "      <td>mitsuibush</td>\n",
       "      <td>$2300</td>\n",
       "      <td>4</td>\n",
       "      <td>230</td>\n",
       "      <td>2000</td>\n",
       "      <td>200</td>\n",
       "      <td>400000</td>\n",
       "    </tr>\n",
       "    <tr>\n",
       "      <th>2</th>\n",
       "      <td>datsun</td>\n",
       "      <td>$4000</td>\n",
       "      <td>4</td>\n",
       "      <td>345</td>\n",
       "      <td>9320</td>\n",
       "      <td>3200</td>\n",
       "      <td>29824000</td>\n",
       "    </tr>\n",
       "    <tr>\n",
       "      <th>4</th>\n",
       "      <td>toyota</td>\n",
       "      <td>$18000</td>\n",
       "      <td>4</td>\n",
       "      <td>110</td>\n",
       "      <td>2104</td>\n",
       "      <td>230</td>\n",
       "      <td>483920</td>\n",
       "    </tr>\n",
       "  </tbody>\n",
       "</table>\n",
       "</div>"
      ],
      "text/plain": [
       "     car_make car-price  seat_number  horse_power  fuel_used(Ltr)  Milage(KM)  \\\n",
       "0      toyota     $2000            2          114           10000        2000   \n",
       "1  mitsuibush     $2300            4          230            2000         200   \n",
       "2      datsun     $4000            4          345            9320        3200   \n",
       "4      toyota    $18000            4          110            2104         230   \n",
       "\n",
       "   life fuel used  \n",
       "0        20000000  \n",
       "1          400000  \n",
       "2        29824000  \n",
       "4          483920  "
      ]
     },
     "execution_count": 70,
     "metadata": {},
     "output_type": "execute_result"
    }
   ],
   "source": [
    "car_seat_is_4_or_toyota"
   ]
  },
  {
   "cell_type": "code",
   "execution_count": 71,
   "id": "4f038646",
   "metadata": {},
   "outputs": [],
   "source": [
    "car_seat_4_and_toyota = car_data[(car_data['seat_number'] == 4) & (car_data['car_make'] == 'toyota')]"
   ]
  },
  {
   "cell_type": "code",
   "execution_count": 72,
   "id": "dde2b21f",
   "metadata": {},
   "outputs": [
    {
     "data": {
      "text/html": [
       "<div>\n",
       "<style scoped>\n",
       "    .dataframe tbody tr th:only-of-type {\n",
       "        vertical-align: middle;\n",
       "    }\n",
       "\n",
       "    .dataframe tbody tr th {\n",
       "        vertical-align: top;\n",
       "    }\n",
       "\n",
       "    .dataframe thead th {\n",
       "        text-align: right;\n",
       "    }\n",
       "</style>\n",
       "<table border=\"1\" class=\"dataframe\">\n",
       "  <thead>\n",
       "    <tr style=\"text-align: right;\">\n",
       "      <th></th>\n",
       "      <th>car_make</th>\n",
       "      <th>car-price</th>\n",
       "      <th>seat_number</th>\n",
       "      <th>horse_power</th>\n",
       "      <th>fuel_used(Ltr)</th>\n",
       "      <th>Milage(KM)</th>\n",
       "      <th>life fuel used</th>\n",
       "    </tr>\n",
       "  </thead>\n",
       "  <tbody>\n",
       "    <tr>\n",
       "      <th>4</th>\n",
       "      <td>toyota</td>\n",
       "      <td>$18000</td>\n",
       "      <td>4</td>\n",
       "      <td>110</td>\n",
       "      <td>2104</td>\n",
       "      <td>230</td>\n",
       "      <td>483920</td>\n",
       "    </tr>\n",
       "  </tbody>\n",
       "</table>\n",
       "</div>"
      ],
      "text/plain": [
       "  car_make car-price  seat_number  horse_power  fuel_used(Ltr)  Milage(KM)  \\\n",
       "4   toyota    $18000            4          110            2104         230   \n",
       "\n",
       "   life fuel used  \n",
       "4          483920  "
      ]
     },
     "execution_count": 72,
     "metadata": {},
     "output_type": "execute_result"
    }
   ],
   "source": [
    "car_seat_4_and_toyota"
   ]
  },
  {
   "cell_type": "markdown",
   "id": "017a7b9a",
   "metadata": {},
   "source": [
    "## Using Loc and Iloc"
   ]
  },
  {
   "cell_type": "code",
   "execution_count": 73,
   "id": "f78c5a44",
   "metadata": {},
   "outputs": [
    {
     "data": {
      "text/html": [
       "<div>\n",
       "<style scoped>\n",
       "    .dataframe tbody tr th:only-of-type {\n",
       "        vertical-align: middle;\n",
       "    }\n",
       "\n",
       "    .dataframe tbody tr th {\n",
       "        vertical-align: top;\n",
       "    }\n",
       "\n",
       "    .dataframe thead th {\n",
       "        text-align: right;\n",
       "    }\n",
       "</style>\n",
       "<table border=\"1\" class=\"dataframe\">\n",
       "  <thead>\n",
       "    <tr style=\"text-align: right;\">\n",
       "      <th></th>\n",
       "      <th>car_make</th>\n",
       "      <th>car-price</th>\n",
       "      <th>seat_number</th>\n",
       "      <th>horse_power</th>\n",
       "      <th>fuel_used(Ltr)</th>\n",
       "      <th>Milage(KM)</th>\n",
       "      <th>life fuel used</th>\n",
       "    </tr>\n",
       "  </thead>\n",
       "  <tbody>\n",
       "    <tr>\n",
       "      <th>0</th>\n",
       "      <td>toyota</td>\n",
       "      <td>$2000</td>\n",
       "      <td>2</td>\n",
       "      <td>114</td>\n",
       "      <td>10000</td>\n",
       "      <td>2000</td>\n",
       "      <td>20000000</td>\n",
       "    </tr>\n",
       "    <tr>\n",
       "      <th>1</th>\n",
       "      <td>mitsuibush</td>\n",
       "      <td>$2300</td>\n",
       "      <td>4</td>\n",
       "      <td>230</td>\n",
       "      <td>2000</td>\n",
       "      <td>200</td>\n",
       "      <td>400000</td>\n",
       "    </tr>\n",
       "    <tr>\n",
       "      <th>2</th>\n",
       "      <td>datsun</td>\n",
       "      <td>$4000</td>\n",
       "      <td>4</td>\n",
       "      <td>345</td>\n",
       "      <td>9320</td>\n",
       "      <td>3200</td>\n",
       "      <td>29824000</td>\n",
       "    </tr>\n",
       "  </tbody>\n",
       "</table>\n",
       "</div>"
      ],
      "text/plain": [
       "     car_make car-price  seat_number  horse_power  fuel_used(Ltr)  Milage(KM)  \\\n",
       "0      toyota     $2000            2          114           10000        2000   \n",
       "1  mitsuibush     $2300            4          230            2000         200   \n",
       "2      datsun     $4000            4          345            9320        3200   \n",
       "\n",
       "   life fuel used  \n",
       "0        20000000  \n",
       "1          400000  \n",
       "2        29824000  "
      ]
     },
     "execution_count": 73,
     "metadata": {},
     "output_type": "execute_result"
    }
   ],
   "source": [
    "car_data.loc[0:2]"
   ]
  },
  {
   "cell_type": "code",
   "execution_count": 74,
   "id": "ebc80102",
   "metadata": {},
   "outputs": [
    {
     "data": {
      "text/html": [
       "<div>\n",
       "<style scoped>\n",
       "    .dataframe tbody tr th:only-of-type {\n",
       "        vertical-align: middle;\n",
       "    }\n",
       "\n",
       "    .dataframe tbody tr th {\n",
       "        vertical-align: top;\n",
       "    }\n",
       "\n",
       "    .dataframe thead th {\n",
       "        text-align: right;\n",
       "    }\n",
       "</style>\n",
       "<table border=\"1\" class=\"dataframe\">\n",
       "  <thead>\n",
       "    <tr style=\"text-align: right;\">\n",
       "      <th></th>\n",
       "      <th>car_make</th>\n",
       "      <th>car-price</th>\n",
       "      <th>seat_number</th>\n",
       "      <th>horse_power</th>\n",
       "      <th>fuel_used(Ltr)</th>\n",
       "      <th>Milage(KM)</th>\n",
       "      <th>life fuel used</th>\n",
       "    </tr>\n",
       "  </thead>\n",
       "  <tbody>\n",
       "    <tr>\n",
       "      <th>1</th>\n",
       "      <td>mitsuibush</td>\n",
       "      <td>$2300</td>\n",
       "      <td>4</td>\n",
       "      <td>230</td>\n",
       "      <td>2000</td>\n",
       "      <td>200</td>\n",
       "      <td>400000</td>\n",
       "    </tr>\n",
       "    <tr>\n",
       "      <th>2</th>\n",
       "      <td>datsun</td>\n",
       "      <td>$4000</td>\n",
       "      <td>4</td>\n",
       "      <td>345</td>\n",
       "      <td>9320</td>\n",
       "      <td>3200</td>\n",
       "      <td>29824000</td>\n",
       "    </tr>\n",
       "  </tbody>\n",
       "</table>\n",
       "</div>"
      ],
      "text/plain": [
       "     car_make car-price  seat_number  horse_power  fuel_used(Ltr)  Milage(KM)  \\\n",
       "1  mitsuibush     $2300            4          230            2000         200   \n",
       "2      datsun     $4000            4          345            9320        3200   \n",
       "\n",
       "   life fuel used  \n",
       "1          400000  \n",
       "2        29824000  "
      ]
     },
     "execution_count": 74,
     "metadata": {},
     "output_type": "execute_result"
    }
   ],
   "source": [
    "car_data.loc[car_data['horse_power'] > 200]"
   ]
  },
  {
   "cell_type": "code",
   "execution_count": 75,
   "id": "85e70a59",
   "metadata": {},
   "outputs": [
    {
     "data": {
      "text/html": [
       "<div>\n",
       "<style scoped>\n",
       "    .dataframe tbody tr th:only-of-type {\n",
       "        vertical-align: middle;\n",
       "    }\n",
       "\n",
       "    .dataframe tbody tr th {\n",
       "        vertical-align: top;\n",
       "    }\n",
       "\n",
       "    .dataframe thead th {\n",
       "        text-align: right;\n",
       "    }\n",
       "</style>\n",
       "<table border=\"1\" class=\"dataframe\">\n",
       "  <thead>\n",
       "    <tr style=\"text-align: right;\">\n",
       "      <th></th>\n",
       "      <th>seat_number</th>\n",
       "      <th>horse_power</th>\n",
       "    </tr>\n",
       "  </thead>\n",
       "  <tbody>\n",
       "    <tr>\n",
       "      <th>0</th>\n",
       "      <td>2</td>\n",
       "      <td>114</td>\n",
       "    </tr>\n",
       "    <tr>\n",
       "      <th>1</th>\n",
       "      <td>4</td>\n",
       "      <td>230</td>\n",
       "    </tr>\n",
       "  </tbody>\n",
       "</table>\n",
       "</div>"
      ],
      "text/plain": [
       "   seat_number  horse_power\n",
       "0            2          114\n",
       "1            4          230"
      ]
     },
     "execution_count": 75,
     "metadata": {},
     "output_type": "execute_result"
    }
   ],
   "source": [
    "car_data.iloc[0:2,2:4]"
   ]
  },
  {
   "cell_type": "code",
   "execution_count": 76,
   "id": "39596834",
   "metadata": {},
   "outputs": [],
   "source": [
    "car_unique = car_data['car_make'].unique()"
   ]
  },
  {
   "cell_type": "code",
   "execution_count": 77,
   "id": "dd7af7f7",
   "metadata": {},
   "outputs": [
    {
     "data": {
      "text/plain": [
       "array(['toyota', 'mitsuibush', 'datsun', 'lexus'], dtype=object)"
      ]
     },
     "execution_count": 77,
     "metadata": {},
     "output_type": "execute_result"
    }
   ],
   "source": [
    "car_unique"
   ]
  }
 ],
 "metadata": {
  "kernelspec": {
   "display_name": "Python 3 (ipykernel)",
   "language": "python",
   "name": "python3"
  },
  "language_info": {
   "codemirror_mode": {
    "name": "ipython",
    "version": 3
   },
   "file_extension": ".py",
   "mimetype": "text/x-python",
   "name": "python",
   "nbconvert_exporter": "python",
   "pygments_lexer": "ipython3",
   "version": "3.10.9"
  }
 },
 "nbformat": 4,
 "nbformat_minor": 5
}
