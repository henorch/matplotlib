{
 "cells": [
  {
   "cell_type": "markdown",
   "id": "45ba562c",
   "metadata": {},
   "source": [
    "# Working With Data in Pandas"
   ]
  },
  {
   "cell_type": "markdown",
   "id": "739904cf",
   "metadata": {},
   "source": [
    "# importing data in pandas "
   ]
  },
  {
   "cell_type": "code",
   "execution_count": 24,
   "id": "e711f2b6",
   "metadata": {},
   "outputs": [],
   "source": [
    "import pandas as pd\n",
    "car_data = pd.read_csv('car_dataframe.csv')"
   ]
  },
  {
   "cell_type": "code",
   "execution_count": 25,
   "id": "3d38088f",
   "metadata": {},
   "outputs": [
    {
     "data": {
      "text/html": [
       "<div>\n",
       "<style scoped>\n",
       "    .dataframe tbody tr th:only-of-type {\n",
       "        vertical-align: middle;\n",
       "    }\n",
       "\n",
       "    .dataframe tbody tr th {\n",
       "        vertical-align: top;\n",
       "    }\n",
       "\n",
       "    .dataframe thead th {\n",
       "        text-align: right;\n",
       "    }\n",
       "</style>\n",
       "<table border=\"1\" class=\"dataframe\">\n",
       "  <thead>\n",
       "    <tr style=\"text-align: right;\">\n",
       "      <th></th>\n",
       "      <th>car_make</th>\n",
       "      <th>car-price</th>\n",
       "      <th>seat_number</th>\n",
       "      <th>horse_power</th>\n",
       "      <th>fuel_used(Ltr)</th>\n",
       "      <th>Milage(KM)</th>\n",
       "      <th>life fuel used</th>\n",
       "    </tr>\n",
       "  </thead>\n",
       "  <tbody>\n",
       "    <tr>\n",
       "      <th>0</th>\n",
       "      <td>Toyota</td>\n",
       "      <td>2000</td>\n",
       "      <td>2</td>\n",
       "      <td>114</td>\n",
       "      <td>10000</td>\n",
       "      <td>2000</td>\n",
       "      <td>20000000</td>\n",
       "    </tr>\n",
       "    <tr>\n",
       "      <th>1</th>\n",
       "      <td>Mitsuibush</td>\n",
       "      <td>2300</td>\n",
       "      <td>4</td>\n",
       "      <td>230</td>\n",
       "      <td>2000</td>\n",
       "      <td>200</td>\n",
       "      <td>400000</td>\n",
       "    </tr>\n",
       "    <tr>\n",
       "      <th>2</th>\n",
       "      <td>Datsun</td>\n",
       "      <td>4000</td>\n",
       "      <td>4</td>\n",
       "      <td>345</td>\n",
       "      <td>9320</td>\n",
       "      <td>3200</td>\n",
       "      <td>29824000</td>\n",
       "    </tr>\n",
       "    <tr>\n",
       "      <th>3</th>\n",
       "      <td>Lexus</td>\n",
       "      <td>2000</td>\n",
       "      <td>7</td>\n",
       "      <td>120</td>\n",
       "      <td>45000</td>\n",
       "      <td>10450</td>\n",
       "      <td>470250000</td>\n",
       "    </tr>\n",
       "    <tr>\n",
       "      <th>4</th>\n",
       "      <td>Toyota</td>\n",
       "      <td>18000</td>\n",
       "      <td>4</td>\n",
       "      <td>110</td>\n",
       "      <td>2104</td>\n",
       "      <td>230</td>\n",
       "      <td>483920</td>\n",
       "    </tr>\n",
       "  </tbody>\n",
       "</table>\n",
       "</div>"
      ],
      "text/plain": [
       "     car_make  car-price  seat_number  horse_power  fuel_used(Ltr)  \\\n",
       "0      Toyota       2000            2          114           10000   \n",
       "1  Mitsuibush       2300            4          230            2000   \n",
       "2      Datsun       4000            4          345            9320   \n",
       "3       Lexus       2000            7          120           45000   \n",
       "4      Toyota      18000            4          110            2104   \n",
       "\n",
       "   Milage(KM)  life fuel used  \n",
       "0        2000        20000000  \n",
       "1         200          400000  \n",
       "2        3200        29824000  \n",
       "3       10450       470250000  \n",
       "4         230          483920  "
      ]
     },
     "execution_count": 25,
     "metadata": {},
     "output_type": "execute_result"
    }
   ],
   "source": [
    "car_data"
   ]
  },
  {
   "cell_type": "markdown",
   "id": "947edac8",
   "metadata": {},
   "source": [
    "# selecting and viewing row in dataframe"
   ]
  },
  {
   "cell_type": "code",
   "execution_count": 26,
   "id": "d775201e",
   "metadata": {},
   "outputs": [],
   "source": [
    "car_make_price = car_data[['car_make', 'car-price']]"
   ]
  },
  {
   "cell_type": "code",
   "execution_count": 27,
   "id": "c06f388d",
   "metadata": {},
   "outputs": [
    {
     "data": {
      "text/html": [
       "<div>\n",
       "<style scoped>\n",
       "    .dataframe tbody tr th:only-of-type {\n",
       "        vertical-align: middle;\n",
       "    }\n",
       "\n",
       "    .dataframe tbody tr th {\n",
       "        vertical-align: top;\n",
       "    }\n",
       "\n",
       "    .dataframe thead th {\n",
       "        text-align: right;\n",
       "    }\n",
       "</style>\n",
       "<table border=\"1\" class=\"dataframe\">\n",
       "  <thead>\n",
       "    <tr style=\"text-align: right;\">\n",
       "      <th></th>\n",
       "      <th>car_make</th>\n",
       "      <th>car-price</th>\n",
       "    </tr>\n",
       "  </thead>\n",
       "  <tbody>\n",
       "    <tr>\n",
       "      <th>0</th>\n",
       "      <td>Toyota</td>\n",
       "      <td>2000</td>\n",
       "    </tr>\n",
       "    <tr>\n",
       "      <th>1</th>\n",
       "      <td>Mitsuibush</td>\n",
       "      <td>2300</td>\n",
       "    </tr>\n",
       "    <tr>\n",
       "      <th>2</th>\n",
       "      <td>Datsun</td>\n",
       "      <td>4000</td>\n",
       "    </tr>\n",
       "    <tr>\n",
       "      <th>3</th>\n",
       "      <td>Lexus</td>\n",
       "      <td>2000</td>\n",
       "    </tr>\n",
       "    <tr>\n",
       "      <th>4</th>\n",
       "      <td>Toyota</td>\n",
       "      <td>18000</td>\n",
       "    </tr>\n",
       "  </tbody>\n",
       "</table>\n",
       "</div>"
      ],
      "text/plain": [
       "     car_make  car-price\n",
       "0      Toyota       2000\n",
       "1  Mitsuibush       2300\n",
       "2      Datsun       4000\n",
       "3       Lexus       2000\n",
       "4      Toyota      18000"
      ]
     },
     "execution_count": 27,
     "metadata": {},
     "output_type": "execute_result"
    }
   ],
   "source": [
    "car_make_price"
   ]
  },
  {
   "cell_type": "code",
   "execution_count": 28,
   "id": "34af1d2b",
   "metadata": {},
   "outputs": [],
   "source": [
    "car_data['car_make'] = car_data['car_make'].str.lower()"
   ]
  },
  {
   "cell_type": "code",
   "execution_count": 29,
   "id": "662dc1ec",
   "metadata": {},
   "outputs": [
    {
     "data": {
      "text/html": [
       "<div>\n",
       "<style scoped>\n",
       "    .dataframe tbody tr th:only-of-type {\n",
       "        vertical-align: middle;\n",
       "    }\n",
       "\n",
       "    .dataframe tbody tr th {\n",
       "        vertical-align: top;\n",
       "    }\n",
       "\n",
       "    .dataframe thead th {\n",
       "        text-align: right;\n",
       "    }\n",
       "</style>\n",
       "<table border=\"1\" class=\"dataframe\">\n",
       "  <thead>\n",
       "    <tr style=\"text-align: right;\">\n",
       "      <th></th>\n",
       "      <th>car_make</th>\n",
       "      <th>car-price</th>\n",
       "      <th>seat_number</th>\n",
       "      <th>horse_power</th>\n",
       "      <th>fuel_used(Ltr)</th>\n",
       "      <th>Milage(KM)</th>\n",
       "      <th>life fuel used</th>\n",
       "    </tr>\n",
       "  </thead>\n",
       "  <tbody>\n",
       "    <tr>\n",
       "      <th>0</th>\n",
       "      <td>toyota</td>\n",
       "      <td>2000</td>\n",
       "      <td>2</td>\n",
       "      <td>114</td>\n",
       "      <td>10000</td>\n",
       "      <td>2000</td>\n",
       "      <td>20000000</td>\n",
       "    </tr>\n",
       "    <tr>\n",
       "      <th>1</th>\n",
       "      <td>mitsuibush</td>\n",
       "      <td>2300</td>\n",
       "      <td>4</td>\n",
       "      <td>230</td>\n",
       "      <td>2000</td>\n",
       "      <td>200</td>\n",
       "      <td>400000</td>\n",
       "    </tr>\n",
       "    <tr>\n",
       "      <th>2</th>\n",
       "      <td>datsun</td>\n",
       "      <td>4000</td>\n",
       "      <td>4</td>\n",
       "      <td>345</td>\n",
       "      <td>9320</td>\n",
       "      <td>3200</td>\n",
       "      <td>29824000</td>\n",
       "    </tr>\n",
       "    <tr>\n",
       "      <th>3</th>\n",
       "      <td>lexus</td>\n",
       "      <td>2000</td>\n",
       "      <td>7</td>\n",
       "      <td>120</td>\n",
       "      <td>45000</td>\n",
       "      <td>10450</td>\n",
       "      <td>470250000</td>\n",
       "    </tr>\n",
       "    <tr>\n",
       "      <th>4</th>\n",
       "      <td>toyota</td>\n",
       "      <td>18000</td>\n",
       "      <td>4</td>\n",
       "      <td>110</td>\n",
       "      <td>2104</td>\n",
       "      <td>230</td>\n",
       "      <td>483920</td>\n",
       "    </tr>\n",
       "  </tbody>\n",
       "</table>\n",
       "</div>"
      ],
      "text/plain": [
       "     car_make  car-price  seat_number  horse_power  fuel_used(Ltr)  \\\n",
       "0      toyota       2000            2          114           10000   \n",
       "1  mitsuibush       2300            4          230            2000   \n",
       "2      datsun       4000            4          345            9320   \n",
       "3       lexus       2000            7          120           45000   \n",
       "4      toyota      18000            4          110            2104   \n",
       "\n",
       "   Milage(KM)  life fuel used  \n",
       "0        2000        20000000  \n",
       "1         200          400000  \n",
       "2        3200        29824000  \n",
       "3       10450       470250000  \n",
       "4         230          483920  "
      ]
     },
     "execution_count": 29,
     "metadata": {},
     "output_type": "execute_result"
    }
   ],
   "source": [
    "car_data"
   ]
  },
  {
   "cell_type": "code",
   "execution_count": 30,
   "id": "0b59a3c6",
   "metadata": {},
   "outputs": [],
   "source": [
    "# selecting where car seat is 4.\n",
    "car_seat_is_4_or_toyota = car_data[(car_data['seat_number'] == 4) | (car_data['car_make'] == 'toyota')]"
   ]
  },
  {
   "cell_type": "code",
   "execution_count": 31,
   "id": "fe0ec5c7",
   "metadata": {},
   "outputs": [
    {
     "data": {
      "text/html": [
       "<div>\n",
       "<style scoped>\n",
       "    .dataframe tbody tr th:only-of-type {\n",
       "        vertical-align: middle;\n",
       "    }\n",
       "\n",
       "    .dataframe tbody tr th {\n",
       "        vertical-align: top;\n",
       "    }\n",
       "\n",
       "    .dataframe thead th {\n",
       "        text-align: right;\n",
       "    }\n",
       "</style>\n",
       "<table border=\"1\" class=\"dataframe\">\n",
       "  <thead>\n",
       "    <tr style=\"text-align: right;\">\n",
       "      <th></th>\n",
       "      <th>car_make</th>\n",
       "      <th>car-price</th>\n",
       "      <th>seat_number</th>\n",
       "      <th>horse_power</th>\n",
       "      <th>fuel_used(Ltr)</th>\n",
       "      <th>Milage(KM)</th>\n",
       "      <th>life fuel used</th>\n",
       "    </tr>\n",
       "  </thead>\n",
       "  <tbody>\n",
       "    <tr>\n",
       "      <th>0</th>\n",
       "      <td>toyota</td>\n",
       "      <td>2000</td>\n",
       "      <td>2</td>\n",
       "      <td>114</td>\n",
       "      <td>10000</td>\n",
       "      <td>2000</td>\n",
       "      <td>20000000</td>\n",
       "    </tr>\n",
       "    <tr>\n",
       "      <th>1</th>\n",
       "      <td>mitsuibush</td>\n",
       "      <td>2300</td>\n",
       "      <td>4</td>\n",
       "      <td>230</td>\n",
       "      <td>2000</td>\n",
       "      <td>200</td>\n",
       "      <td>400000</td>\n",
       "    </tr>\n",
       "    <tr>\n",
       "      <th>2</th>\n",
       "      <td>datsun</td>\n",
       "      <td>4000</td>\n",
       "      <td>4</td>\n",
       "      <td>345</td>\n",
       "      <td>9320</td>\n",
       "      <td>3200</td>\n",
       "      <td>29824000</td>\n",
       "    </tr>\n",
       "    <tr>\n",
       "      <th>4</th>\n",
       "      <td>toyota</td>\n",
       "      <td>18000</td>\n",
       "      <td>4</td>\n",
       "      <td>110</td>\n",
       "      <td>2104</td>\n",
       "      <td>230</td>\n",
       "      <td>483920</td>\n",
       "    </tr>\n",
       "  </tbody>\n",
       "</table>\n",
       "</div>"
      ],
      "text/plain": [
       "     car_make  car-price  seat_number  horse_power  fuel_used(Ltr)  \\\n",
       "0      toyota       2000            2          114           10000   \n",
       "1  mitsuibush       2300            4          230            2000   \n",
       "2      datsun       4000            4          345            9320   \n",
       "4      toyota      18000            4          110            2104   \n",
       "\n",
       "   Milage(KM)  life fuel used  \n",
       "0        2000        20000000  \n",
       "1         200          400000  \n",
       "2        3200        29824000  \n",
       "4         230          483920  "
      ]
     },
     "execution_count": 31,
     "metadata": {},
     "output_type": "execute_result"
    }
   ],
   "source": [
    "car_seat_is_4_or_toyota"
   ]
  },
  {
   "cell_type": "code",
   "execution_count": 32,
   "id": "4f038646",
   "metadata": {},
   "outputs": [],
   "source": [
    "car_seat_4_and_toyota = car_data[(car_data['seat_number'] == 4) & (car_data['car_make'] == 'toyota')]"
   ]
  },
  {
   "cell_type": "code",
   "execution_count": 33,
   "id": "dde2b21f",
   "metadata": {},
   "outputs": [
    {
     "data": {
      "text/html": [
       "<div>\n",
       "<style scoped>\n",
       "    .dataframe tbody tr th:only-of-type {\n",
       "        vertical-align: middle;\n",
       "    }\n",
       "\n",
       "    .dataframe tbody tr th {\n",
       "        vertical-align: top;\n",
       "    }\n",
       "\n",
       "    .dataframe thead th {\n",
       "        text-align: right;\n",
       "    }\n",
       "</style>\n",
       "<table border=\"1\" class=\"dataframe\">\n",
       "  <thead>\n",
       "    <tr style=\"text-align: right;\">\n",
       "      <th></th>\n",
       "      <th>car_make</th>\n",
       "      <th>car-price</th>\n",
       "      <th>seat_number</th>\n",
       "      <th>horse_power</th>\n",
       "      <th>fuel_used(Ltr)</th>\n",
       "      <th>Milage(KM)</th>\n",
       "      <th>life fuel used</th>\n",
       "    </tr>\n",
       "  </thead>\n",
       "  <tbody>\n",
       "    <tr>\n",
       "      <th>4</th>\n",
       "      <td>toyota</td>\n",
       "      <td>18000</td>\n",
       "      <td>4</td>\n",
       "      <td>110</td>\n",
       "      <td>2104</td>\n",
       "      <td>230</td>\n",
       "      <td>483920</td>\n",
       "    </tr>\n",
       "  </tbody>\n",
       "</table>\n",
       "</div>"
      ],
      "text/plain": [
       "  car_make  car-price  seat_number  horse_power  fuel_used(Ltr)  Milage(KM)  \\\n",
       "4   toyota      18000            4          110            2104         230   \n",
       "\n",
       "   life fuel used  \n",
       "4          483920  "
      ]
     },
     "execution_count": 33,
     "metadata": {},
     "output_type": "execute_result"
    }
   ],
   "source": [
    "car_seat_4_and_toyota"
   ]
  },
  {
   "cell_type": "markdown",
   "id": "017a7b9a",
   "metadata": {},
   "source": [
    "## Using Loc and Iloc"
   ]
  },
  {
   "cell_type": "code",
   "execution_count": 34,
   "id": "f78c5a44",
   "metadata": {},
   "outputs": [
    {
     "data": {
      "text/html": [
       "<div>\n",
       "<style scoped>\n",
       "    .dataframe tbody tr th:only-of-type {\n",
       "        vertical-align: middle;\n",
       "    }\n",
       "\n",
       "    .dataframe tbody tr th {\n",
       "        vertical-align: top;\n",
       "    }\n",
       "\n",
       "    .dataframe thead th {\n",
       "        text-align: right;\n",
       "    }\n",
       "</style>\n",
       "<table border=\"1\" class=\"dataframe\">\n",
       "  <thead>\n",
       "    <tr style=\"text-align: right;\">\n",
       "      <th></th>\n",
       "      <th>car_make</th>\n",
       "      <th>car-price</th>\n",
       "      <th>seat_number</th>\n",
       "      <th>horse_power</th>\n",
       "      <th>fuel_used(Ltr)</th>\n",
       "      <th>Milage(KM)</th>\n",
       "      <th>life fuel used</th>\n",
       "    </tr>\n",
       "  </thead>\n",
       "  <tbody>\n",
       "    <tr>\n",
       "      <th>0</th>\n",
       "      <td>toyota</td>\n",
       "      <td>2000</td>\n",
       "      <td>2</td>\n",
       "      <td>114</td>\n",
       "      <td>10000</td>\n",
       "      <td>2000</td>\n",
       "      <td>20000000</td>\n",
       "    </tr>\n",
       "    <tr>\n",
       "      <th>1</th>\n",
       "      <td>mitsuibush</td>\n",
       "      <td>2300</td>\n",
       "      <td>4</td>\n",
       "      <td>230</td>\n",
       "      <td>2000</td>\n",
       "      <td>200</td>\n",
       "      <td>400000</td>\n",
       "    </tr>\n",
       "    <tr>\n",
       "      <th>2</th>\n",
       "      <td>datsun</td>\n",
       "      <td>4000</td>\n",
       "      <td>4</td>\n",
       "      <td>345</td>\n",
       "      <td>9320</td>\n",
       "      <td>3200</td>\n",
       "      <td>29824000</td>\n",
       "    </tr>\n",
       "  </tbody>\n",
       "</table>\n",
       "</div>"
      ],
      "text/plain": [
       "     car_make  car-price  seat_number  horse_power  fuel_used(Ltr)  \\\n",
       "0      toyota       2000            2          114           10000   \n",
       "1  mitsuibush       2300            4          230            2000   \n",
       "2      datsun       4000            4          345            9320   \n",
       "\n",
       "   Milage(KM)  life fuel used  \n",
       "0        2000        20000000  \n",
       "1         200          400000  \n",
       "2        3200        29824000  "
      ]
     },
     "execution_count": 34,
     "metadata": {},
     "output_type": "execute_result"
    }
   ],
   "source": [
    "car_data.loc[0:2]"
   ]
  },
  {
   "cell_type": "code",
   "execution_count": 35,
   "id": "ebc80102",
   "metadata": {},
   "outputs": [
    {
     "data": {
      "text/html": [
       "<div>\n",
       "<style scoped>\n",
       "    .dataframe tbody tr th:only-of-type {\n",
       "        vertical-align: middle;\n",
       "    }\n",
       "\n",
       "    .dataframe tbody tr th {\n",
       "        vertical-align: top;\n",
       "    }\n",
       "\n",
       "    .dataframe thead th {\n",
       "        text-align: right;\n",
       "    }\n",
       "</style>\n",
       "<table border=\"1\" class=\"dataframe\">\n",
       "  <thead>\n",
       "    <tr style=\"text-align: right;\">\n",
       "      <th></th>\n",
       "      <th>car_make</th>\n",
       "      <th>car-price</th>\n",
       "      <th>seat_number</th>\n",
       "      <th>horse_power</th>\n",
       "      <th>fuel_used(Ltr)</th>\n",
       "      <th>Milage(KM)</th>\n",
       "      <th>life fuel used</th>\n",
       "    </tr>\n",
       "  </thead>\n",
       "  <tbody>\n",
       "    <tr>\n",
       "      <th>1</th>\n",
       "      <td>mitsuibush</td>\n",
       "      <td>2300</td>\n",
       "      <td>4</td>\n",
       "      <td>230</td>\n",
       "      <td>2000</td>\n",
       "      <td>200</td>\n",
       "      <td>400000</td>\n",
       "    </tr>\n",
       "    <tr>\n",
       "      <th>2</th>\n",
       "      <td>datsun</td>\n",
       "      <td>4000</td>\n",
       "      <td>4</td>\n",
       "      <td>345</td>\n",
       "      <td>9320</td>\n",
       "      <td>3200</td>\n",
       "      <td>29824000</td>\n",
       "    </tr>\n",
       "  </tbody>\n",
       "</table>\n",
       "</div>"
      ],
      "text/plain": [
       "     car_make  car-price  seat_number  horse_power  fuel_used(Ltr)  \\\n",
       "1  mitsuibush       2300            4          230            2000   \n",
       "2      datsun       4000            4          345            9320   \n",
       "\n",
       "   Milage(KM)  life fuel used  \n",
       "1         200          400000  \n",
       "2        3200        29824000  "
      ]
     },
     "execution_count": 35,
     "metadata": {},
     "output_type": "execute_result"
    }
   ],
   "source": [
    "car_data.loc[car_data['horse_power'] > 200]"
   ]
  },
  {
   "cell_type": "code",
   "execution_count": 36,
   "id": "85e70a59",
   "metadata": {},
   "outputs": [
    {
     "data": {
      "text/html": [
       "<div>\n",
       "<style scoped>\n",
       "    .dataframe tbody tr th:only-of-type {\n",
       "        vertical-align: middle;\n",
       "    }\n",
       "\n",
       "    .dataframe tbody tr th {\n",
       "        vertical-align: top;\n",
       "    }\n",
       "\n",
       "    .dataframe thead th {\n",
       "        text-align: right;\n",
       "    }\n",
       "</style>\n",
       "<table border=\"1\" class=\"dataframe\">\n",
       "  <thead>\n",
       "    <tr style=\"text-align: right;\">\n",
       "      <th></th>\n",
       "      <th>seat_number</th>\n",
       "      <th>horse_power</th>\n",
       "    </tr>\n",
       "  </thead>\n",
       "  <tbody>\n",
       "    <tr>\n",
       "      <th>0</th>\n",
       "      <td>2</td>\n",
       "      <td>114</td>\n",
       "    </tr>\n",
       "    <tr>\n",
       "      <th>1</th>\n",
       "      <td>4</td>\n",
       "      <td>230</td>\n",
       "    </tr>\n",
       "  </tbody>\n",
       "</table>\n",
       "</div>"
      ],
      "text/plain": [
       "   seat_number  horse_power\n",
       "0            2          114\n",
       "1            4          230"
      ]
     },
     "execution_count": 36,
     "metadata": {},
     "output_type": "execute_result"
    }
   ],
   "source": [
    "car_data.iloc[0:2,2:4]"
   ]
  },
  {
   "cell_type": "code",
   "execution_count": 37,
   "id": "39596834",
   "metadata": {},
   "outputs": [],
   "source": [
    "car_unique = car_data['car_make'].unique()"
   ]
  },
  {
   "cell_type": "code",
   "execution_count": 38,
   "id": "dd7af7f7",
   "metadata": {},
   "outputs": [
    {
     "data": {
      "text/plain": [
       "array(['toyota', 'mitsuibush', 'datsun', 'lexus'], dtype=object)"
      ]
     },
     "execution_count": 38,
     "metadata": {},
     "output_type": "execute_result"
    }
   ],
   "source": [
    "car_unique"
   ]
  },
  {
   "cell_type": "code",
   "execution_count": 39,
   "id": "b6f215a6",
   "metadata": {},
   "outputs": [
    {
     "data": {
      "text/html": [
       "<div>\n",
       "<style scoped>\n",
       "    .dataframe tbody tr th:only-of-type {\n",
       "        vertical-align: middle;\n",
       "    }\n",
       "\n",
       "    .dataframe tbody tr th {\n",
       "        vertical-align: top;\n",
       "    }\n",
       "\n",
       "    .dataframe thead th {\n",
       "        text-align: right;\n",
       "    }\n",
       "</style>\n",
       "<table border=\"1\" class=\"dataframe\">\n",
       "  <thead>\n",
       "    <tr style=\"text-align: right;\">\n",
       "      <th>car-price</th>\n",
       "      <th>2000</th>\n",
       "      <th>2300</th>\n",
       "      <th>4000</th>\n",
       "      <th>18000</th>\n",
       "    </tr>\n",
       "    <tr>\n",
       "      <th>car_make</th>\n",
       "      <th></th>\n",
       "      <th></th>\n",
       "      <th></th>\n",
       "      <th></th>\n",
       "    </tr>\n",
       "  </thead>\n",
       "  <tbody>\n",
       "    <tr>\n",
       "      <th>datsun</th>\n",
       "      <td>0</td>\n",
       "      <td>0</td>\n",
       "      <td>1</td>\n",
       "      <td>0</td>\n",
       "    </tr>\n",
       "    <tr>\n",
       "      <th>lexus</th>\n",
       "      <td>1</td>\n",
       "      <td>0</td>\n",
       "      <td>0</td>\n",
       "      <td>0</td>\n",
       "    </tr>\n",
       "    <tr>\n",
       "      <th>mitsuibush</th>\n",
       "      <td>0</td>\n",
       "      <td>1</td>\n",
       "      <td>0</td>\n",
       "      <td>0</td>\n",
       "    </tr>\n",
       "    <tr>\n",
       "      <th>toyota</th>\n",
       "      <td>1</td>\n",
       "      <td>0</td>\n",
       "      <td>0</td>\n",
       "      <td>1</td>\n",
       "    </tr>\n",
       "  </tbody>\n",
       "</table>\n",
       "</div>"
      ],
      "text/plain": [
       "car-price   2000   2300   4000   18000\n",
       "car_make                              \n",
       "datsun          0      0      1      0\n",
       "lexus           1      0      0      0\n",
       "mitsuibush      0      1      0      0\n",
       "toyota          1      0      0      1"
      ]
     },
     "execution_count": 39,
     "metadata": {},
     "output_type": "execute_result"
    }
   ],
   "source": [
    "pd.crosstab(car_data[\"car_make\"], car_data[\"car-price\"])"
   ]
  },
  {
   "cell_type": "markdown",
   "id": "ae3ba533",
   "metadata": {},
   "source": [
    "## Trying out data visualization and ploting with matplotlib"
   ]
  },
  {
   "cell_type": "code",
   "execution_count": 40,
   "id": "9b71c323",
   "metadata": {},
   "outputs": [
    {
     "data": {
      "text/plain": [
       "<Axes: >"
      ]
     },
     "execution_count": 40,
     "metadata": {},
     "output_type": "execute_result"
    },
    {
     "data": {
      "image/png": "[encoded data removed]",
      "text/plain": [
       "<Figure size 640x480 with 1 Axes>"
      ]
     },
     "metadata": {},
     "output_type": "display_data"
    }
   ],
   "source": [
    "car_data[\"fuel_used(Ltr)\"].plot()"
   ]
  },
  {
   "cell_type": "code",
   "execution_count": 41,
   "id": "f212a9c9",
   "metadata": {
    "scrolled": true
   },
   "outputs": [
    {
     "data": {
      "text/plain": [
       "<Axes: >"
      ]
     },
     "execution_count": 41,
     "metadata": {},
     "output_type": "execute_result"
    },
    {
     "data": {
      "image/png": "[encoded data removed]",
      "text/plain": [
       "<Figure size 640x480 with 1 Axes>"
      ]
     },
     "metadata": {},
     "output_type": "display_data"
    }
   ],
   "source": [
    "car_data[\"fuel_used(Ltr)\"].hist()"
   ]
  },
  {
   "cell_type": "code",
   "execution_count": 42,
   "id": "af893b08",
   "metadata": {},
   "outputs": [
    {
     "data": {
      "text/plain": [
       "<Axes: >"
      ]
     },
     "execution_count": 42,
     "metadata": {},
     "output_type": "execute_result"
    },
    {
     "data": {
      "image/png": "[encoded data removed]",
      "text/plain": [
       "<Figure size 640x480 with 1 Axes>"
      ]
     },
     "metadata": {},
     "output_type": "display_data"
    }
   ],
   "source": [
    "car_data[\"car-price\"].hist()"
   ]
  },
  {
   "cell_type": "code",
   "execution_count": null,
   "id": "c785a96c",
   "metadata": {},
   "outputs": [],
   "source": []
  }
 ],
 "metadata": {
  "kernelspec": {
   "display_name": "Python 3 (ipykernel)",
   "language": "python",
   "name": "python3"
  },
  "language_info": {
   "codemirror_mode": {
    "name": "ipython",
    "version": 3
   },
   "file_extension": ".py",
   "mimetype": "text/x-python",
   "name": "python",
   "nbconvert_exporter": "python",
   "pygments_lexer": "ipython3",
   "version": "3.10.9"
  }
 },
 "nbformat": 4,
 "nbformat_minor": 5
}
