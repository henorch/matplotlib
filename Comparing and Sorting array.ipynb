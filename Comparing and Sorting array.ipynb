{
 "cells": [
  {
   "cell_type": "markdown",
   "id": "94b2679e",
   "metadata": {},
   "source": [
    "# Comparing and sorting"
   ]
  },
  {
   "cell_type": "code",
   "execution_count": 1,
   "id": "825c7eb2",
   "metadata": {},
   "outputs": [],
   "source": [
    "import numpy as np"
   ]
  },
  {
   "cell_type": "markdown",
   "id": "4fe1f733",
   "metadata": {},
   "source": [
    "### Attempting comparison in numpy array"
   ]
  },
  {
   "cell_type": "code",
   "execution_count": 36,
   "id": "e0e68fd4",
   "metadata": {},
   "outputs": [],
   "source": [
    "rand_1 = np.random.randint(20, size=(2,3,3))"
   ]
  },
  {
   "cell_type": "code",
   "execution_count": 37,
   "id": "3c2d325d",
   "metadata": {},
   "outputs": [
    {
     "data": {
      "text/plain": [
       "array([[[10, 16, 15],\n",
       "        [19, 10, 19],\n",
       "        [13,  0,  2]],\n",
       "\n",
       "       [[ 6,  7, 17],\n",
       "        [15,  8,  1],\n",
       "        [15,  8, 11]]])"
      ]
     },
     "execution_count": 37,
     "metadata": {},
     "output_type": "execute_result"
    }
   ],
   "source": [
    "rand_1"
   ]
  },
  {
   "cell_type": "code",
   "execution_count": 38,
   "id": "ae5fa6ac",
   "metadata": {},
   "outputs": [
    {
     "data": {
      "text/plain": [
       "array([10, 16, 15, 19, 10, 19, 13,  6,  7, 17, 15,  8, 15,  8, 11])"
      ]
     },
     "execution_count": 38,
     "metadata": {},
     "output_type": "execute_result"
    }
   ],
   "source": [
    "rand_1[rand_1 > 5]"
   ]
  },
  {
   "cell_type": "code",
   "execution_count": 39,
   "id": "b67a286d",
   "metadata": {},
   "outputs": [
    {
     "data": {
      "text/plain": [
       "array([[[ True,  True,  True],\n",
       "        [ True,  True,  True],\n",
       "        [ True, False, False]],\n",
       "\n",
       "       [[ True,  True,  True],\n",
       "        [ True,  True, False],\n",
       "        [ True,  True,  True]]])"
      ]
     },
     "execution_count": 39,
     "metadata": {},
     "output_type": "execute_result"
    }
   ],
   "source": [
    "rand_1 > 5"
   ]
  },
  {
   "cell_type": "code",
   "execution_count": 48,
   "id": "2a6d9832",
   "metadata": {},
   "outputs": [
    {
     "data": {
      "text/plain": [
       "(2, 2, 2)"
      ]
     },
     "execution_count": 48,
     "metadata": {},
     "output_type": "execute_result"
    }
   ],
   "source": [
    "rand_1[:, :2, :2].shape"
   ]
  },
  {
   "cell_type": "markdown",
   "id": "c147dcd9",
   "metadata": {},
   "source": [
    "# Sorting An Array"
   ]
  },
  {
   "cell_type": "code",
   "execution_count": 49,
   "id": "ee61e8c1",
   "metadata": {},
   "outputs": [
    {
     "data": {
      "text/plain": [
       "array([[[10, 16, 15],\n",
       "        [19, 10, 19],\n",
       "        [13,  0,  2]],\n",
       "\n",
       "       [[ 6,  7, 17],\n",
       "        [15,  8,  1],\n",
       "        [15,  8, 11]]])"
      ]
     },
     "execution_count": 49,
     "metadata": {},
     "output_type": "execute_result"
    }
   ],
   "source": [
    "rand_1"
   ]
  },
  {
   "cell_type": "code",
   "execution_count": 51,
   "id": "a38d6af8",
   "metadata": {},
   "outputs": [
    {
     "data": {
      "text/plain": [
       "array([[[10, 15, 16],\n",
       "        [10, 19, 19],\n",
       "        [ 0,  2, 13]],\n",
       "\n",
       "       [[ 6,  7, 17],\n",
       "        [ 1,  8, 15],\n",
       "        [ 8, 11, 15]]])"
      ]
     },
     "execution_count": 51,
     "metadata": {},
     "output_type": "execute_result"
    }
   ],
   "source": [
    "np.sort(rand_1)"
   ]
  },
  {
   "cell_type": "code",
   "execution_count": 52,
   "id": "6e053ed1",
   "metadata": {},
   "outputs": [
    {
     "data": {
      "text/plain": [
       "array([[[0, 1, 2],\n",
       "        [0, 1, 2],\n",
       "        [0, 1, 2]],\n",
       "\n",
       "       [[0, 1, 2],\n",
       "        [0, 1, 2],\n",
       "        [0, 1, 2]]])"
      ]
     },
     "execution_count": 52,
     "metadata": {},
     "output_type": "execute_result"
    }
   ],
   "source": [
    "np.argsort(rand_1)"
   ]
  },
  {
   "cell_type": "code",
   "execution_count": 53,
   "id": "776784a6",
   "metadata": {},
   "outputs": [
    {
     "data": {
      "text/plain": [
       "6"
      ]
     },
     "execution_count": 53,
     "metadata": {},
     "output_type": "execute_result"
    }
   ],
   "source": [
    "np.argmin(rand_1)"
   ]
  },
  {
   "cell_type": "code",
   "execution_count": 54,
   "id": "dfb54057",
   "metadata": {},
   "outputs": [
    {
     "data": {
      "text/plain": [
       "4"
      ]
     },
     "execution_count": 54,
     "metadata": {},
     "output_type": "execute_result"
    }
   ],
   "source": [
    "np.argmax(rand_1)"
   ]
  },
  {
   "cell_type": "code",
   "execution_count": null,
   "id": "b406f456",
   "metadata": {},
   "outputs": [],
   "source": []
  }
 ],
 "metadata": {
  "kernelspec": {
   "display_name": "Python 3 (ipykernel)",
   "language": "python",
   "name": "python3"
  },
  "language_info": {
   "codemirror_mode": {
    "name": "ipython",
    "version": 3
   },
   "file_extension": ".py",
   "mimetype": "text/x-python",
   "name": "python",
   "nbconvert_exporter": "python",
   "pygments_lexer": "ipython3",
   "version": "3.10.9"
  }
 },
 "nbformat": 4,
 "nbformat_minor": 5
}
